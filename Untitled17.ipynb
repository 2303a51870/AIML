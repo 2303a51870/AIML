{
  "nbformat": 4,
  "nbformat_minor": 0,
  "metadata": {
    "colab": {
      "provenance": [],
      "authorship_tag": "ABX9TyPOM8F/1/CNOg8zZOTwLBc3",
      "include_colab_link": true
    },
    "kernelspec": {
      "name": "python3",
      "display_name": "Python 3"
    },
    "language_info": {
      "name": "python"
    }
  },
  "cells": [
    {
      "cell_type": "markdown",
      "metadata": {
        "id": "view-in-github",
        "colab_type": "text"
      },
      "source": [
        "<a href=\"https://colab.research.google.com/github/2303a51870/AIML/blob/main/Untitled17.ipynb\" target=\"_parent\"><img src=\"https://colab.research.google.com/assets/colab-badge.svg\" alt=\"Open In Colab\"/></a>"
      ]
    },
    {
      "cell_type": "markdown",
      "source": [
        "Prediction of YouTube Spams in Music content\n",
        "\n",
        "Q1.Identify the top 5 spam music videos of KatyPerry ?\n",
        "\n",
        "Q2.Name the music singer with the highest spam content on Yoou Tube?\n",
        "\n",
        "Q3. Identify the total number of Music Video with max and min spam content?\n",
        "\n",
        "Q4.Name the date when most spam content was produced and by which singer?\n",
        "\n",
        "Q5.Name the singer and song most watched in Yout Tube?"
      ],
      "metadata": {
        "id": "4GztZcZ15mgg"
      }
    },
    {
      "cell_type": "code",
      "source": [
        "import pandas as pd\n",
        "\n",
        "# Load the dataset\n",
        "file_path = 'Youtube01-Psy.csv'\n",
        "file_path = 'Youtube02-KatyPerry.csv'\n",
        "file_path = 'Youtube03-LMFAO.csv'\n",
        "file_path = 'Youtube04-Eminem.csv'\n",
        "file_path = 'Youtube05-Shakira (1).csv'  # Ensure this file is in the same directory or adjust the path\n",
        "data = pd.read_csv(file_path)\n",
        "\n",
        "# Display basic information about the dataset\n",
        "print(\"Dataset Overview:\")\n",
        "print(data.head())\n",
        "print(data.info())\n",
        "\n",
        "# Example Analysis Based on Columns:\n",
        "# 1. Count total rows and columns\n",
        "print(f\"\\nTotal Rows: {data.shape[0]}, Total Columns: {data.shape[1]}\")\n",
        "\n",
        "# 2. Check for null or missing values\n",
        "print(\"\\nMissing Values in Each Column:\")\n",
        "print(data.isnull().sum())\n",
        "\n",
        "# 3. Count unique values in categorical columns\n",
        "if 'COMMENT' in data.columns:\n",
        "    print(\"\\nUnique Comments Count:\", data['COMMENT'].nunique())\n",
        "\n",
        "if 'CLASS' in data.columns:\n",
        "    print(\"\\nDistribution of CLASS (e.g., Spam or Not Spam):\")\n",
        "    print(data['CLASS'].value_counts())\n",
        "\n",
        "# Example of filtering data (Adjust conditions as needed)\n",
        "if 'AUTHOR' in data.columns:\n",
        "    # Find top 5 authors by number of comments\n",
        "    print(\"\\nTop 5 Authors by Comment Count:\")\n",
        "    print(data['AUTHOR'].value_counts().head(5))\n",
        "\n",
        "# Example Text Analysis (if comments are available)\n",
        "if 'COMMENT' in data.columns:\n",
        "    from collections import Counter\n",
        "    # Find most common words in comments\n",
        "    all_comments = \" \".join(data['COMMENT'].astype(str).tolist())\n",
        "    words = all_comments.split()\n",
        "    common_words = Counter(words).most_common(10)\n",
        "    print(\"\\nTop 10 Most Common Words in Comments:\")\n",
        "    for word, count in common_words:\n",
        "        print(f\"{word}: {count}\")\n",
        "\n",
        "# Save a filtered dataset (if needed)\n",
        "# filtered_data = data[data['CLASS'] == 1]  # Example: Filter Spam comments\n",
        "# filtered_data.to_csv('Filtered_Youtube_Data.csv', index=False)\n",
        "\n",
        "print(\"\\nAnalysis Complete.\")"
      ],
      "metadata": {
        "colab": {
          "base_uri": "https://localhost:8080/"
        },
        "id": "Om9DP2Tz5nLQ",
        "outputId": "b6867443-38d5-432e-a574-ac60c3ae176b"
      },
      "execution_count": null,
      "outputs": [
        {
          "output_type": "stream",
          "name": "stdout",
          "text": [
            "Dataset Overview:\n",
            "                              COMMENT_ID                              AUTHOR  \\\n",
            "0    z13lgffb5w3ddx1ul22qy1wxspy5cpkz504                          dharma pal   \n",
            "1      z123dbgb0mqjfxbtz22ucjc5jvzcv3ykj                       Tiza Arellano   \n",
            "2  z12quxxp2vutflkxv04cihggzt2azl34pms0k  Prìñçeśś Âliś Łøvê Dømíñø Mâđiś™ ﻿   \n",
            "3      z12icv3ysqvlwth2c23eddlykyqut5z1h                       Eric Gonzalez   \n",
            "4      z133stly3kete3tly22petvwdpmghrlli                       Analena López   \n",
            "\n",
            "                         DATE  \\\n",
            "0  2015-05-29T02:30:18.971000   \n",
            "1  2015-05-29T00:14:48.748000   \n",
            "2  2015-05-28T21:00:08.607000   \n",
            "3  2015-05-28T20:47:12.193000   \n",
            "4  2015-05-28T17:08:29.827000   \n",
            "\n",
            "                                             CONTENT  CLASS  \n",
            "0                                         Nice song﻿      0  \n",
            "1                                      I love song ﻿      0  \n",
            "2                                      I love song ﻿      0  \n",
            "3  860,000,000 lets make it first female to reach...      0  \n",
            "4                      shakira is best for worldcup﻿      0  \n",
            "<class 'pandas.core.frame.DataFrame'>\n",
            "RangeIndex: 370 entries, 0 to 369\n",
            "Data columns (total 5 columns):\n",
            " #   Column      Non-Null Count  Dtype \n",
            "---  ------      --------------  ----- \n",
            " 0   COMMENT_ID  370 non-null    object\n",
            " 1   AUTHOR      370 non-null    object\n",
            " 2   DATE        370 non-null    object\n",
            " 3   CONTENT     370 non-null    object\n",
            " 4   CLASS       370 non-null    int64 \n",
            "dtypes: int64(1), object(4)\n",
            "memory usage: 14.6+ KB\n",
            "None\n",
            "\n",
            "Total Rows: 370, Total Columns: 5\n",
            "\n",
            "Missing Values in Each Column:\n",
            "COMMENT_ID    0\n",
            "AUTHOR        0\n",
            "DATE          0\n",
            "CONTENT       0\n",
            "CLASS         0\n",
            "dtype: int64\n",
            "\n",
            "Distribution of CLASS (e.g., Spam or Not Spam):\n",
            "CLASS\n",
            "0    196\n",
            "1    174\n",
            "Name: count, dtype: int64\n",
            "\n",
            "Top 5 Authors by Comment Count:\n",
            "AUTHOR\n",
            "Shadrach Grentz    7\n",
            "5000palo           7\n",
            "Hidden Love        5\n",
            "James Cook         4\n",
            "Adam Whitney       3\n",
            "Name: count, dtype: int64\n",
            "\n",
            "Analysis Complete.\n"
          ]
        }
      ]
    }
  ]
}