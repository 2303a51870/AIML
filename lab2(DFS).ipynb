{
  "nbformat": 4,
  "nbformat_minor": 0,
  "metadata": {
    "colab": {
      "provenance": [],
      "authorship_tag": "ABX9TyOtWrFt5COGp+Mhp3MFIEmb",
      "include_colab_link": true
    },
    "kernelspec": {
      "name": "python3",
      "display_name": "Python 3"
    },
    "language_info": {
      "name": "python"
    }
  },
  "cells": [
    {
      "cell_type": "markdown",
      "metadata": {
        "id": "view-in-github",
        "colab_type": "text"
      },
      "source": [
        "<a href=\"https://colab.research.google.com/github/2303a51870/AIML/blob/main/lab2(DFS).ipynb\" target=\"_parent\"><img src=\"https://colab.research.google.com/assets/colab-badge.svg\" alt=\"Open In Colab\"/></a>"
      ]
    },
    {
      "cell_type": "code",
      "execution_count": 1,
      "metadata": {
        "colab": {
          "base_uri": "https://localhost:8080/"
        },
        "id": "y6PcKFtPS39L",
        "outputId": "5118250b-e624-4a2d-dabb-ddf33aab4523"
      },
      "outputs": [
        {
          "output_type": "stream",
          "name": "stdout",
          "text": [
            "['D', 'C', 'E', 'H', 'G', 'F', 'S', 'A', 'B']\n"
          ]
        }
      ],
      "source": [
        "graph1 = {\n",
        "    'A' : ['B','S'],\n",
        "    'B' : ['A'],\n",
        "    'C' : ['D','E','F','S'],\n",
        "    'D' : ['C'],\n",
        "    'E' : ['C','H'],\n",
        "    'F' : ['C','G'],\n",
        "    'G' : ['F','S'],\n",
        "    'H' : ['E','G'],\n",
        "    'S' : ['A','C','G']\n",
        "}\n",
        "\n",
        "def dfs(graph, node, visited):\n",
        "    if node not in visited:\n",
        "        visited.append(node)\n",
        "        for k in graph[node]:\n",
        "            dfs(graph,k, visited)\n",
        "    return visited\n",
        "\n",
        "visited = dfs(graph1,'D', [])\n",
        "print(visited)"
      ]
    }
  ]
}